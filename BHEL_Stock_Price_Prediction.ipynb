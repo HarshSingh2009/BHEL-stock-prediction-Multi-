{
  "cells": [
    {
      "cell_type": "markdown",
      "metadata": {
        "id": "i8ZNFzPPE_uj"
      },
      "source": [
        "# **BHEL Stock Price Prediction**\n",
        "> 🧬 We will predict the Stock Price of BHEL using Multivariate Time Series - `Bharat Heavy Electrical Limited`"
      ]
    },
    {
      "cell_type": "code",
      "execution_count": 1,
      "metadata": {
        "id": "KT4Zw06YGr2i"
      },
      "outputs": [],
      "source": [
        "import tensorflow as tf\n",
        "import numpy as np\n",
        "import pandas as pd\n",
        "import matplotlib.pyplot as plt\n",
        "import seaborn as sns"
      ]
    },
    {
      "cell_type": "markdown",
      "metadata": {
        "id": "Bu3ByppyE_xX"
      },
      "source": [
        "## Loading and Exploring Data"
      ]
    },
    {
      "cell_type": "code",
      "execution_count": 2,
      "metadata": {
        "colab": {
          "base_uri": "https://localhost:8080/"
        },
        "id": "lUX6ysdZHsPM",
        "outputId": "e28bdc25-7c84-4cb9-a1e6-7e0f2983b9cd"
      },
      "outputs": [
        {
          "name": "stdout",
          "output_type": "stream",
          "text": [
            "\r[*********************100%%**********************]  1 of 1 completed\n"
          ]
        }
      ],
      "source": [
        "import yfinance as yf\n",
        "import pandas as pd\n",
        "\n",
        "def get_stock_data_to_csv(stock_code, start_date, end_date, file_path):\n",
        "    # Fetch Apple stock data\n",
        "    data = yf.download(stock_code, start=start_date, end=end_date)\n",
        "\n",
        "    # Save the data to a CSV file\n",
        "    data.to_csv(file_path)\n",
        "\n",
        "# Define the date range and file path\n",
        "start_date = \"2000-09-01\"\n",
        "end_date = \"2023-09-01\"\n",
        "file_path = \"BHEL.csv\"  # Update this with your desired file path\n",
        "\n",
        "# Call the function to save the data\n",
        "get_stock_data_to_csv('BHEL.NS', start_date, end_date, file_path)"
      ]
    },
    {
      "cell_type": "code",
      "execution_count": 3,
      "metadata": {
        "colab": {
          "base_uri": "https://localhost:8080/",
          "height": 206
        },
        "id": "YmMC2HG0IIRl",
        "outputId": "6ae8d02c-e441-4af9-8fe1-af121ec6038d"
      },
      "outputs": [
        {
          "data": {
            "text/html": [
              "\n",
              "  <div id=\"df-4d24f86d-ad15-463e-89fb-a12d59ccf20d\" class=\"colab-df-container\">\n",
              "    <div>\n",
              "<style scoped>\n",
              "    .dataframe tbody tr th:only-of-type {\n",
              "        vertical-align: middle;\n",
              "    }\n",
              "\n",
              "    .dataframe tbody tr th {\n",
              "        vertical-align: top;\n",
              "    }\n",
              "\n",
              "    .dataframe thead th {\n",
              "        text-align: right;\n",
              "    }\n",
              "</style>\n",
              "<table border=\"1\" class=\"dataframe\">\n",
              "  <thead>\n",
              "    <tr style=\"text-align: right;\">\n",
              "      <th></th>\n",
              "      <th>Date</th>\n",
              "      <th>Open</th>\n",
              "      <th>High</th>\n",
              "      <th>Low</th>\n",
              "      <th>Close</th>\n",
              "      <th>Adj Close</th>\n",
              "      <th>Volume</th>\n",
              "    </tr>\n",
              "  </thead>\n",
              "  <tbody>\n",
              "    <tr>\n",
              "      <th>0</th>\n",
              "      <td>2000-09-01</td>\n",
              "      <td>8.883333</td>\n",
              "      <td>8.883333</td>\n",
              "      <td>8.883333</td>\n",
              "      <td>8.883333</td>\n",
              "      <td>6.725233</td>\n",
              "      <td>0</td>\n",
              "    </tr>\n",
              "    <tr>\n",
              "      <th>1</th>\n",
              "      <td>2000-09-04</td>\n",
              "      <td>8.993333</td>\n",
              "      <td>9.040000</td>\n",
              "      <td>8.666666</td>\n",
              "      <td>8.696666</td>\n",
              "      <td>6.583913</td>\n",
              "      <td>4512600</td>\n",
              "    </tr>\n",
              "    <tr>\n",
              "      <th>2</th>\n",
              "      <td>2000-09-05</td>\n",
              "      <td>8.793333</td>\n",
              "      <td>9.590000</td>\n",
              "      <td>8.710000</td>\n",
              "      <td>9.476666</td>\n",
              "      <td>7.174422</td>\n",
              "      <td>13891965</td>\n",
              "    </tr>\n",
              "    <tr>\n",
              "      <th>3</th>\n",
              "      <td>2000-09-06</td>\n",
              "      <td>9.333333</td>\n",
              "      <td>9.390000</td>\n",
              "      <td>9.066666</td>\n",
              "      <td>9.156666</td>\n",
              "      <td>6.932160</td>\n",
              "      <td>4390650</td>\n",
              "    </tr>\n",
              "    <tr>\n",
              "      <th>4</th>\n",
              "      <td>2000-09-07</td>\n",
              "      <td>9.073333</td>\n",
              "      <td>9.506666</td>\n",
              "      <td>9.073333</td>\n",
              "      <td>9.356666</td>\n",
              "      <td>7.083574</td>\n",
              "      <td>3831240</td>\n",
              "    </tr>\n",
              "  </tbody>\n",
              "</table>\n",
              "</div>\n",
              "    <div class=\"colab-df-buttons\">\n",
              "\n",
              "  <div class=\"colab-df-container\">\n",
              "    <button class=\"colab-df-convert\" onclick=\"convertToInteractive('df-4d24f86d-ad15-463e-89fb-a12d59ccf20d')\"\n",
              "            title=\"Convert this dataframe to an interactive table.\"\n",
              "            style=\"display:none;\">\n",
              "\n",
              "  <svg xmlns=\"http://www.w3.org/2000/svg\" height=\"24px\" viewBox=\"0 -960 960 960\">\n",
              "    <path d=\"M120-120v-720h720v720H120Zm60-500h600v-160H180v160Zm220 220h160v-160H400v160Zm0 220h160v-160H400v160ZM180-400h160v-160H180v160Zm440 0h160v-160H620v160ZM180-180h160v-160H180v160Zm440 0h160v-160H620v160Z\"/>\n",
              "  </svg>\n",
              "    </button>\n",
              "\n",
              "  <style>\n",
              "    .colab-df-container {\n",
              "      display:flex;\n",
              "      gap: 12px;\n",
              "    }\n",
              "\n",
              "    .colab-df-convert {\n",
              "      background-color: #E8F0FE;\n",
              "      border: none;\n",
              "      border-radius: 50%;\n",
              "      cursor: pointer;\n",
              "      display: none;\n",
              "      fill: #1967D2;\n",
              "      height: 32px;\n",
              "      padding: 0 0 0 0;\n",
              "      width: 32px;\n",
              "    }\n",
              "\n",
              "    .colab-df-convert:hover {\n",
              "      background-color: #E2EBFA;\n",
              "      box-shadow: 0px 1px 2px rgba(60, 64, 67, 0.3), 0px 1px 3px 1px rgba(60, 64, 67, 0.15);\n",
              "      fill: #174EA6;\n",
              "    }\n",
              "\n",
              "    .colab-df-buttons div {\n",
              "      margin-bottom: 4px;\n",
              "    }\n",
              "\n",
              "    [theme=dark] .colab-df-convert {\n",
              "      background-color: #3B4455;\n",
              "      fill: #D2E3FC;\n",
              "    }\n",
              "\n",
              "    [theme=dark] .colab-df-convert:hover {\n",
              "      background-color: #434B5C;\n",
              "      box-shadow: 0px 1px 3px 1px rgba(0, 0, 0, 0.15);\n",
              "      filter: drop-shadow(0px 1px 2px rgba(0, 0, 0, 0.3));\n",
              "      fill: #FFFFFF;\n",
              "    }\n",
              "  </style>\n",
              "\n",
              "    <script>\n",
              "      const buttonEl =\n",
              "        document.querySelector('#df-4d24f86d-ad15-463e-89fb-a12d59ccf20d button.colab-df-convert');\n",
              "      buttonEl.style.display =\n",
              "        google.colab.kernel.accessAllowed ? 'block' : 'none';\n",
              "\n",
              "      async function convertToInteractive(key) {\n",
              "        const element = document.querySelector('#df-4d24f86d-ad15-463e-89fb-a12d59ccf20d');\n",
              "        const dataTable =\n",
              "          await google.colab.kernel.invokeFunction('convertToInteractive',\n",
              "                                                    [key], {});\n",
              "        if (!dataTable) return;\n",
              "\n",
              "        const docLinkHtml = 'Like what you see? Visit the ' +\n",
              "          '<a target=\"_blank\" href=https://colab.research.google.com/notebooks/data_table.ipynb>data table notebook</a>'\n",
              "          + ' to learn more about interactive tables.';\n",
              "        element.innerHTML = '';\n",
              "        dataTable['output_type'] = 'display_data';\n",
              "        await google.colab.output.renderOutput(dataTable, element);\n",
              "        const docLink = document.createElement('div');\n",
              "        docLink.innerHTML = docLinkHtml;\n",
              "        element.appendChild(docLink);\n",
              "      }\n",
              "    </script>\n",
              "  </div>\n",
              "\n",
              "\n",
              "<div id=\"df-5de03245-4daa-49c3-8683-afdda94575c9\">\n",
              "  <button class=\"colab-df-quickchart\" onclick=\"quickchart('df-5de03245-4daa-49c3-8683-afdda94575c9')\"\n",
              "            title=\"Suggest charts.\"\n",
              "            style=\"display:none;\">\n",
              "\n",
              "<svg xmlns=\"http://www.w3.org/2000/svg\" height=\"24px\"viewBox=\"0 0 24 24\"\n",
              "     width=\"24px\">\n",
              "    <g>\n",
              "        <path d=\"M19 3H5c-1.1 0-2 .9-2 2v14c0 1.1.9 2 2 2h14c1.1 0 2-.9 2-2V5c0-1.1-.9-2-2-2zM9 17H7v-7h2v7zm4 0h-2V7h2v10zm4 0h-2v-4h2v4z\"/>\n",
              "    </g>\n",
              "</svg>\n",
              "  </button>\n",
              "\n",
              "<style>\n",
              "  .colab-df-quickchart {\n",
              "      --bg-color: #E8F0FE;\n",
              "      --fill-color: #1967D2;\n",
              "      --hover-bg-color: #E2EBFA;\n",
              "      --hover-fill-color: #174EA6;\n",
              "      --disabled-fill-color: #AAA;\n",
              "      --disabled-bg-color: #DDD;\n",
              "  }\n",
              "\n",
              "  [theme=dark] .colab-df-quickchart {\n",
              "      --bg-color: #3B4455;\n",
              "      --fill-color: #D2E3FC;\n",
              "      --hover-bg-color: #434B5C;\n",
              "      --hover-fill-color: #FFFFFF;\n",
              "      --disabled-bg-color: #3B4455;\n",
              "      --disabled-fill-color: #666;\n",
              "  }\n",
              "\n",
              "  .colab-df-quickchart {\n",
              "    background-color: var(--bg-color);\n",
              "    border: none;\n",
              "    border-radius: 50%;\n",
              "    cursor: pointer;\n",
              "    display: none;\n",
              "    fill: var(--fill-color);\n",
              "    height: 32px;\n",
              "    padding: 0;\n",
              "    width: 32px;\n",
              "  }\n",
              "\n",
              "  .colab-df-quickchart:hover {\n",
              "    background-color: var(--hover-bg-color);\n",
              "    box-shadow: 0 1px 2px rgba(60, 64, 67, 0.3), 0 1px 3px 1px rgba(60, 64, 67, 0.15);\n",
              "    fill: var(--button-hover-fill-color);\n",
              "  }\n",
              "\n",
              "  .colab-df-quickchart-complete:disabled,\n",
              "  .colab-df-quickchart-complete:disabled:hover {\n",
              "    background-color: var(--disabled-bg-color);\n",
              "    fill: var(--disabled-fill-color);\n",
              "    box-shadow: none;\n",
              "  }\n",
              "\n",
              "  .colab-df-spinner {\n",
              "    border: 2px solid var(--fill-color);\n",
              "    border-color: transparent;\n",
              "    border-bottom-color: var(--fill-color);\n",
              "    animation:\n",
              "      spin 1s steps(1) infinite;\n",
              "  }\n",
              "\n",
              "  @keyframes spin {\n",
              "    0% {\n",
              "      border-color: transparent;\n",
              "      border-bottom-color: var(--fill-color);\n",
              "      border-left-color: var(--fill-color);\n",
              "    }\n",
              "    20% {\n",
              "      border-color: transparent;\n",
              "      border-left-color: var(--fill-color);\n",
              "      border-top-color: var(--fill-color);\n",
              "    }\n",
              "    30% {\n",
              "      border-color: transparent;\n",
              "      border-left-color: var(--fill-color);\n",
              "      border-top-color: var(--fill-color);\n",
              "      border-right-color: var(--fill-color);\n",
              "    }\n",
              "    40% {\n",
              "      border-color: transparent;\n",
              "      border-right-color: var(--fill-color);\n",
              "      border-top-color: var(--fill-color);\n",
              "    }\n",
              "    60% {\n",
              "      border-color: transparent;\n",
              "      border-right-color: var(--fill-color);\n",
              "    }\n",
              "    80% {\n",
              "      border-color: transparent;\n",
              "      border-right-color: var(--fill-color);\n",
              "      border-bottom-color: var(--fill-color);\n",
              "    }\n",
              "    90% {\n",
              "      border-color: transparent;\n",
              "      border-bottom-color: var(--fill-color);\n",
              "    }\n",
              "  }\n",
              "</style>\n",
              "\n",
              "  <script>\n",
              "    async function quickchart(key) {\n",
              "      const quickchartButtonEl =\n",
              "        document.querySelector('#' + key + ' button');\n",
              "      quickchartButtonEl.disabled = true;  // To prevent multiple clicks.\n",
              "      quickchartButtonEl.classList.add('colab-df-spinner');\n",
              "      try {\n",
              "        const charts = await google.colab.kernel.invokeFunction(\n",
              "            'suggestCharts', [key], {});\n",
              "      } catch (error) {\n",
              "        console.error('Error during call to suggestCharts:', error);\n",
              "      }\n",
              "      quickchartButtonEl.classList.remove('colab-df-spinner');\n",
              "      quickchartButtonEl.classList.add('colab-df-quickchart-complete');\n",
              "    }\n",
              "    (() => {\n",
              "      let quickchartButtonEl =\n",
              "        document.querySelector('#df-5de03245-4daa-49c3-8683-afdda94575c9 button');\n",
              "      quickchartButtonEl.style.display =\n",
              "        google.colab.kernel.accessAllowed ? 'block' : 'none';\n",
              "    })();\n",
              "  </script>\n",
              "</div>\n",
              "    </div>\n",
              "  </div>\n"
            ],
            "text/plain": [
              "         Date      Open      High       Low     Close  Adj Close    Volume\n",
              "0  2000-09-01  8.883333  8.883333  8.883333  8.883333   6.725233         0\n",
              "1  2000-09-04  8.993333  9.040000  8.666666  8.696666   6.583913   4512600\n",
              "2  2000-09-05  8.793333  9.590000  8.710000  9.476666   7.174422  13891965\n",
              "3  2000-09-06  9.333333  9.390000  9.066666  9.156666   6.932160   4390650\n",
              "4  2000-09-07  9.073333  9.506666  9.073333  9.356666   7.083574   3831240"
            ]
          },
          "execution_count": 3,
          "metadata": {},
          "output_type": "execute_result"
        }
      ],
      "source": [
        "df = pd.read_csv('BHEL.csv')\n",
        "df.head()"
      ]
    },
    {
      "cell_type": "code",
      "execution_count": 4,
      "metadata": {
        "colab": {
          "base_uri": "https://localhost:8080/",
          "height": 206
        },
        "id": "sZPcKq28IITz",
        "outputId": "e62438cc-7a5f-4965-e71e-3179b77c43cc"
      },
      "outputs": [
        {
          "data": {
            "text/html": [
              "\n",
              "  <div id=\"df-0df42dbd-86cf-4003-98b3-e47662c5376a\" class=\"colab-df-container\">\n",
              "    <div>\n",
              "<style scoped>\n",
              "    .dataframe tbody tr th:only-of-type {\n",
              "        vertical-align: middle;\n",
              "    }\n",
              "\n",
              "    .dataframe tbody tr th {\n",
              "        vertical-align: top;\n",
              "    }\n",
              "\n",
              "    .dataframe thead th {\n",
              "        text-align: right;\n",
              "    }\n",
              "</style>\n",
              "<table border=\"1\" class=\"dataframe\">\n",
              "  <thead>\n",
              "    <tr style=\"text-align: right;\">\n",
              "      <th></th>\n",
              "      <th>Date</th>\n",
              "      <th>Open</th>\n",
              "      <th>High</th>\n",
              "      <th>Low</th>\n",
              "      <th>Close</th>\n",
              "      <th>Adj Close</th>\n",
              "      <th>Volume</th>\n",
              "    </tr>\n",
              "  </thead>\n",
              "  <tbody>\n",
              "    <tr>\n",
              "      <th>5731</th>\n",
              "      <td>2023-08-25</td>\n",
              "      <td>107.650002</td>\n",
              "      <td>109.199997</td>\n",
              "      <td>105.000000</td>\n",
              "      <td>105.250000</td>\n",
              "      <td>105.250000</td>\n",
              "      <td>26019715</td>\n",
              "    </tr>\n",
              "    <tr>\n",
              "      <th>5732</th>\n",
              "      <td>2023-08-28</td>\n",
              "      <td>106.800003</td>\n",
              "      <td>110.500000</td>\n",
              "      <td>106.050003</td>\n",
              "      <td>109.550003</td>\n",
              "      <td>109.550003</td>\n",
              "      <td>41415363</td>\n",
              "    </tr>\n",
              "    <tr>\n",
              "      <th>5733</th>\n",
              "      <td>2023-08-29</td>\n",
              "      <td>109.800003</td>\n",
              "      <td>115.599998</td>\n",
              "      <td>109.050003</td>\n",
              "      <td>114.650002</td>\n",
              "      <td>114.650002</td>\n",
              "      <td>65979986</td>\n",
              "    </tr>\n",
              "    <tr>\n",
              "      <th>5734</th>\n",
              "      <td>2023-08-30</td>\n",
              "      <td>115.500000</td>\n",
              "      <td>119.500000</td>\n",
              "      <td>114.000000</td>\n",
              "      <td>118.699997</td>\n",
              "      <td>118.699997</td>\n",
              "      <td>80676360</td>\n",
              "    </tr>\n",
              "    <tr>\n",
              "      <th>5735</th>\n",
              "      <td>2023-08-31</td>\n",
              "      <td>120.900002</td>\n",
              "      <td>122.000000</td>\n",
              "      <td>118.699997</td>\n",
              "      <td>121.250000</td>\n",
              "      <td>121.250000</td>\n",
              "      <td>68540952</td>\n",
              "    </tr>\n",
              "  </tbody>\n",
              "</table>\n",
              "</div>\n",
              "    <div class=\"colab-df-buttons\">\n",
              "\n",
              "  <div class=\"colab-df-container\">\n",
              "    <button class=\"colab-df-convert\" onclick=\"convertToInteractive('df-0df42dbd-86cf-4003-98b3-e47662c5376a')\"\n",
              "            title=\"Convert this dataframe to an interactive table.\"\n",
              "            style=\"display:none;\">\n",
              "\n",
              "  <svg xmlns=\"http://www.w3.org/2000/svg\" height=\"24px\" viewBox=\"0 -960 960 960\">\n",
              "    <path d=\"M120-120v-720h720v720H120Zm60-500h600v-160H180v160Zm220 220h160v-160H400v160Zm0 220h160v-160H400v160ZM180-400h160v-160H180v160Zm440 0h160v-160H620v160ZM180-180h160v-160H180v160Zm440 0h160v-160H620v160Z\"/>\n",
              "  </svg>\n",
              "    </button>\n",
              "\n",
              "  <style>\n",
              "    .colab-df-container {\n",
              "      display:flex;\n",
              "      gap: 12px;\n",
              "    }\n",
              "\n",
              "    .colab-df-convert {\n",
              "      background-color: #E8F0FE;\n",
              "      border: none;\n",
              "      border-radius: 50%;\n",
              "      cursor: pointer;\n",
              "      display: none;\n",
              "      fill: #1967D2;\n",
              "      height: 32px;\n",
              "      padding: 0 0 0 0;\n",
              "      width: 32px;\n",
              "    }\n",
              "\n",
              "    .colab-df-convert:hover {\n",
              "      background-color: #E2EBFA;\n",
              "      box-shadow: 0px 1px 2px rgba(60, 64, 67, 0.3), 0px 1px 3px 1px rgba(60, 64, 67, 0.15);\n",
              "      fill: #174EA6;\n",
              "    }\n",
              "\n",
              "    .colab-df-buttons div {\n",
              "      margin-bottom: 4px;\n",
              "    }\n",
              "\n",
              "    [theme=dark] .colab-df-convert {\n",
              "      background-color: #3B4455;\n",
              "      fill: #D2E3FC;\n",
              "    }\n",
              "\n",
              "    [theme=dark] .colab-df-convert:hover {\n",
              "      background-color: #434B5C;\n",
              "      box-shadow: 0px 1px 3px 1px rgba(0, 0, 0, 0.15);\n",
              "      filter: drop-shadow(0px 1px 2px rgba(0, 0, 0, 0.3));\n",
              "      fill: #FFFFFF;\n",
              "    }\n",
              "  </style>\n",
              "\n",
              "    <script>\n",
              "      const buttonEl =\n",
              "        document.querySelector('#df-0df42dbd-86cf-4003-98b3-e47662c5376a button.colab-df-convert');\n",
              "      buttonEl.style.display =\n",
              "        google.colab.kernel.accessAllowed ? 'block' : 'none';\n",
              "\n",
              "      async function convertToInteractive(key) {\n",
              "        const element = document.querySelector('#df-0df42dbd-86cf-4003-98b3-e47662c5376a');\n",
              "        const dataTable =\n",
              "          await google.colab.kernel.invokeFunction('convertToInteractive',\n",
              "                                                    [key], {});\n",
              "        if (!dataTable) return;\n",
              "\n",
              "        const docLinkHtml = 'Like what you see? Visit the ' +\n",
              "          '<a target=\"_blank\" href=https://colab.research.google.com/notebooks/data_table.ipynb>data table notebook</a>'\n",
              "          + ' to learn more about interactive tables.';\n",
              "        element.innerHTML = '';\n",
              "        dataTable['output_type'] = 'display_data';\n",
              "        await google.colab.output.renderOutput(dataTable, element);\n",
              "        const docLink = document.createElement('div');\n",
              "        docLink.innerHTML = docLinkHtml;\n",
              "        element.appendChild(docLink);\n",
              "      }\n",
              "    </script>\n",
              "  </div>\n",
              "\n",
              "\n",
              "<div id=\"df-1157de27-07b3-4bbb-8acf-1d7128e2c862\">\n",
              "  <button class=\"colab-df-quickchart\" onclick=\"quickchart('df-1157de27-07b3-4bbb-8acf-1d7128e2c862')\"\n",
              "            title=\"Suggest charts.\"\n",
              "            style=\"display:none;\">\n",
              "\n",
              "<svg xmlns=\"http://www.w3.org/2000/svg\" height=\"24px\"viewBox=\"0 0 24 24\"\n",
              "     width=\"24px\">\n",
              "    <g>\n",
              "        <path d=\"M19 3H5c-1.1 0-2 .9-2 2v14c0 1.1.9 2 2 2h14c1.1 0 2-.9 2-2V5c0-1.1-.9-2-2-2zM9 17H7v-7h2v7zm4 0h-2V7h2v10zm4 0h-2v-4h2v4z\"/>\n",
              "    </g>\n",
              "</svg>\n",
              "  </button>\n",
              "\n",
              "<style>\n",
              "  .colab-df-quickchart {\n",
              "      --bg-color: #E8F0FE;\n",
              "      --fill-color: #1967D2;\n",
              "      --hover-bg-color: #E2EBFA;\n",
              "      --hover-fill-color: #174EA6;\n",
              "      --disabled-fill-color: #AAA;\n",
              "      --disabled-bg-color: #DDD;\n",
              "  }\n",
              "\n",
              "  [theme=dark] .colab-df-quickchart {\n",
              "      --bg-color: #3B4455;\n",
              "      --fill-color: #D2E3FC;\n",
              "      --hover-bg-color: #434B5C;\n",
              "      --hover-fill-color: #FFFFFF;\n",
              "      --disabled-bg-color: #3B4455;\n",
              "      --disabled-fill-color: #666;\n",
              "  }\n",
              "\n",
              "  .colab-df-quickchart {\n",
              "    background-color: var(--bg-color);\n",
              "    border: none;\n",
              "    border-radius: 50%;\n",
              "    cursor: pointer;\n",
              "    display: none;\n",
              "    fill: var(--fill-color);\n",
              "    height: 32px;\n",
              "    padding: 0;\n",
              "    width: 32px;\n",
              "  }\n",
              "\n",
              "  .colab-df-quickchart:hover {\n",
              "    background-color: var(--hover-bg-color);\n",
              "    box-shadow: 0 1px 2px rgba(60, 64, 67, 0.3), 0 1px 3px 1px rgba(60, 64, 67, 0.15);\n",
              "    fill: var(--button-hover-fill-color);\n",
              "  }\n",
              "\n",
              "  .colab-df-quickchart-complete:disabled,\n",
              "  .colab-df-quickchart-complete:disabled:hover {\n",
              "    background-color: var(--disabled-bg-color);\n",
              "    fill: var(--disabled-fill-color);\n",
              "    box-shadow: none;\n",
              "  }\n",
              "\n",
              "  .colab-df-spinner {\n",
              "    border: 2px solid var(--fill-color);\n",
              "    border-color: transparent;\n",
              "    border-bottom-color: var(--fill-color);\n",
              "    animation:\n",
              "      spin 1s steps(1) infinite;\n",
              "  }\n",
              "\n",
              "  @keyframes spin {\n",
              "    0% {\n",
              "      border-color: transparent;\n",
              "      border-bottom-color: var(--fill-color);\n",
              "      border-left-color: var(--fill-color);\n",
              "    }\n",
              "    20% {\n",
              "      border-color: transparent;\n",
              "      border-left-color: var(--fill-color);\n",
              "      border-top-color: var(--fill-color);\n",
              "    }\n",
              "    30% {\n",
              "      border-color: transparent;\n",
              "      border-left-color: var(--fill-color);\n",
              "      border-top-color: var(--fill-color);\n",
              "      border-right-color: var(--fill-color);\n",
              "    }\n",
              "    40% {\n",
              "      border-color: transparent;\n",
              "      border-right-color: var(--fill-color);\n",
              "      border-top-color: var(--fill-color);\n",
              "    }\n",
              "    60% {\n",
              "      border-color: transparent;\n",
              "      border-right-color: var(--fill-color);\n",
              "    }\n",
              "    80% {\n",
              "      border-color: transparent;\n",
              "      border-right-color: var(--fill-color);\n",
              "      border-bottom-color: var(--fill-color);\n",
              "    }\n",
              "    90% {\n",
              "      border-color: transparent;\n",
              "      border-bottom-color: var(--fill-color);\n",
              "    }\n",
              "  }\n",
              "</style>\n",
              "\n",
              "  <script>\n",
              "    async function quickchart(key) {\n",
              "      const quickchartButtonEl =\n",
              "        document.querySelector('#' + key + ' button');\n",
              "      quickchartButtonEl.disabled = true;  // To prevent multiple clicks.\n",
              "      quickchartButtonEl.classList.add('colab-df-spinner');\n",
              "      try {\n",
              "        const charts = await google.colab.kernel.invokeFunction(\n",
              "            'suggestCharts', [key], {});\n",
              "      } catch (error) {\n",
              "        console.error('Error during call to suggestCharts:', error);\n",
              "      }\n",
              "      quickchartButtonEl.classList.remove('colab-df-spinner');\n",
              "      quickchartButtonEl.classList.add('colab-df-quickchart-complete');\n",
              "    }\n",
              "    (() => {\n",
              "      let quickchartButtonEl =\n",
              "        document.querySelector('#df-1157de27-07b3-4bbb-8acf-1d7128e2c862 button');\n",
              "      quickchartButtonEl.style.display =\n",
              "        google.colab.kernel.accessAllowed ? 'block' : 'none';\n",
              "    })();\n",
              "  </script>\n",
              "</div>\n",
              "    </div>\n",
              "  </div>\n"
            ],
            "text/plain": [
              "            Date        Open        High         Low       Close   Adj Close  \\\n",
              "5731  2023-08-25  107.650002  109.199997  105.000000  105.250000  105.250000   \n",
              "5732  2023-08-28  106.800003  110.500000  106.050003  109.550003  109.550003   \n",
              "5733  2023-08-29  109.800003  115.599998  109.050003  114.650002  114.650002   \n",
              "5734  2023-08-30  115.500000  119.500000  114.000000  118.699997  118.699997   \n",
              "5735  2023-08-31  120.900002  122.000000  118.699997  121.250000  121.250000   \n",
              "\n",
              "        Volume  \n",
              "5731  26019715  \n",
              "5732  41415363  \n",
              "5733  65979986  \n",
              "5734  80676360  \n",
              "5735  68540952  "
            ]
          },
          "execution_count": 4,
          "metadata": {},
          "output_type": "execute_result"
        }
      ],
      "source": [
        "df.tail()"
      ]
    },
    {
      "cell_type": "code",
      "execution_count": 5,
      "metadata": {
        "id": "hV1_5TUmIIWI"
      },
      "outputs": [],
      "source": [
        "df['Date'] = pd.to_datetime(df['Date'])"
      ]
    },
    {
      "cell_type": "code",
      "execution_count": 6,
      "metadata": {
        "colab": {
          "base_uri": "https://localhost:8080/"
        },
        "id": "vfOP8R8aIIYg",
        "outputId": "40a38111-11c7-46eb-bb3b-5be6b8fa7f9e"
      },
      "outputs": [
        {
          "name": "stdout",
          "output_type": "stream",
          "text": [
            "<class 'pandas.core.frame.DataFrame'>\n",
            "RangeIndex: 5736 entries, 0 to 5735\n",
            "Data columns (total 7 columns):\n",
            " #   Column     Non-Null Count  Dtype         \n",
            "---  ------     --------------  -----         \n",
            " 0   Date       5736 non-null   datetime64[ns]\n",
            " 1   Open       5736 non-null   float64       \n",
            " 2   High       5736 non-null   float64       \n",
            " 3   Low        5736 non-null   float64       \n",
            " 4   Close      5736 non-null   float64       \n",
            " 5   Adj Close  5736 non-null   float64       \n",
            " 6   Volume     5736 non-null   int64         \n",
            "dtypes: datetime64[ns](1), float64(5), int64(1)\n",
            "memory usage: 313.8 KB\n"
          ]
        }
      ],
      "source": [
        "df.info()"
      ]
    },
    {
      "cell_type": "code",
      "execution_count": 7,
      "metadata": {
        "colab": {
          "base_uri": "https://localhost:8080/"
        },
        "id": "P4Vntuq6IIcM",
        "outputId": "8a8fc6fc-0796-4dcb-d14d-400959890c53"
      },
      "outputs": [
        {
          "data": {
            "text/plain": [
              "(5736, 7)"
            ]
          },
          "execution_count": 7,
          "metadata": {},
          "output_type": "execute_result"
        }
      ],
      "source": [
        "df.shape"
      ]
    },
    {
      "cell_type": "code",
      "execution_count": 8,
      "metadata": {
        "colab": {
          "base_uri": "https://localhost:8080/",
          "height": 434
        },
        "id": "NcBIAYSyIZbD",
        "outputId": "cc419e28-c896-4bac-cfd2-033b122c7ad0"
      },
      "outputs": [
        {
          "data": {
            "image/png": "[encoded data removed]",
            "text/plain": [
              "<Figure size 640x480 with 1 Axes>"
            ]
          },
          "metadata": {},
          "output_type": "display_data"
        }
      ],
      "source": [
        "plt.plot(df['Date'], df['Close'])\n",
        "plt.grid()\n",
        "plt.show()"
      ]
    },
    {
      "cell_type": "code",
      "execution_count": 9,
      "metadata": {
        "colab": {
          "base_uri": "https://localhost:8080/",
          "height": 445
        },
        "id": "-IL2T1-kIZc6",
        "outputId": "9e2cdaa8-f757-4ebb-dda5-16c6c4ab48f1"
      },
      "outputs": [
        {
          "data": {
            "image/png": "[encoded data removed]",
            "text/plain": [
              "<Figure size 640x480 with 1 Axes>"
            ]
          },
          "metadata": {},
          "output_type": "display_data"
        }
      ],
      "source": [
        "plt.plot(df['Date'], df['Volume'])\n",
        "plt.grid()\n",
        "plt.show()"
      ]
    },
    {
      "cell_type": "code",
      "execution_count": 10,
      "metadata": {
        "id": "i0R25vOcNBUi"
      },
      "outputs": [],
      "source": [
        "# move the 'Close' column to the first position in the DataFrame\n",
        "close_col = df.pop('Close')\n",
        "df.insert(1, 'Close', close_col)"
      ]
    },
    {
      "cell_type": "code",
      "execution_count": 11,
      "metadata": {
        "colab": {
          "base_uri": "https://localhost:8080/",
          "height": 206
        },
        "id": "5-upEIlnNHjL",
        "outputId": "429f4e2e-dbb8-4331-e912-2916bc206d85"
      },
      "outputs": [
        {
          "data": {
            "text/html": [
              "\n",
              "  <div id=\"df-aa517429-576b-4311-8e2d-52c6b1a8cdfa\" class=\"colab-df-container\">\n",
              "    <div>\n",
              "<style scoped>\n",
              "    .dataframe tbody tr th:only-of-type {\n",
              "        vertical-align: middle;\n",
              "    }\n",
              "\n",
              "    .dataframe tbody tr th {\n",
              "        vertical-align: top;\n",
              "    }\n",
              "\n",
              "    .dataframe thead th {\n",
              "        text-align: right;\n",
              "    }\n",
              "</style>\n",
              "<table border=\"1\" class=\"dataframe\">\n",
              "  <thead>\n",
              "    <tr style=\"text-align: right;\">\n",
              "      <th></th>\n",
              "      <th>Date</th>\n",
              "      <th>Close</th>\n",
              "      <th>Open</th>\n",
              "      <th>High</th>\n",
              "      <th>Low</th>\n",
              "      <th>Adj Close</th>\n",
              "      <th>Volume</th>\n",
              "    </tr>\n",
              "  </thead>\n",
              "  <tbody>\n",
              "    <tr>\n",
              "      <th>0</th>\n",
              "      <td>2000-09-01</td>\n",
              "      <td>8.883333</td>\n",
              "      <td>8.883333</td>\n",
              "      <td>8.883333</td>\n",
              "      <td>8.883333</td>\n",
              "      <td>6.725233</td>\n",
              "      <td>0</td>\n",
              "    </tr>\n",
              "    <tr>\n",
              "      <th>1</th>\n",
              "      <td>2000-09-04</td>\n",
              "      <td>8.696666</td>\n",
              "      <td>8.993333</td>\n",
              "      <td>9.040000</td>\n",
              "      <td>8.666666</td>\n",
              "      <td>6.583913</td>\n",
              "      <td>4512600</td>\n",
              "    </tr>\n",
              "    <tr>\n",
              "      <th>2</th>\n",
              "      <td>2000-09-05</td>\n",
              "      <td>9.476666</td>\n",
              "      <td>8.793333</td>\n",
              "      <td>9.590000</td>\n",
              "      <td>8.710000</td>\n",
              "      <td>7.174422</td>\n",
              "      <td>13891965</td>\n",
              "    </tr>\n",
              "    <tr>\n",
              "      <th>3</th>\n",
              "      <td>2000-09-06</td>\n",
              "      <td>9.156666</td>\n",
              "      <td>9.333333</td>\n",
              "      <td>9.390000</td>\n",
              "      <td>9.066666</td>\n",
              "      <td>6.932160</td>\n",
              "      <td>4390650</td>\n",
              "    </tr>\n",
              "    <tr>\n",
              "      <th>4</th>\n",
              "      <td>2000-09-07</td>\n",
              "      <td>9.356666</td>\n",
              "      <td>9.073333</td>\n",
              "      <td>9.506666</td>\n",
              "      <td>9.073333</td>\n",
              "      <td>7.083574</td>\n",
              "      <td>3831240</td>\n",
              "    </tr>\n",
              "  </tbody>\n",
              "</table>\n",
              "</div>\n",
              "    <div class=\"colab-df-buttons\">\n",
              "\n",
              "  <div class=\"colab-df-container\">\n",
              "    <button class=\"colab-df-convert\" onclick=\"convertToInteractive('df-aa517429-576b-4311-8e2d-52c6b1a8cdfa')\"\n",
              "            title=\"Convert this dataframe to an interactive table.\"\n",
              "            style=\"display:none;\">\n",
              "\n",
              "  <svg xmlns=\"http://www.w3.org/2000/svg\" height=\"24px\" viewBox=\"0 -960 960 960\">\n",
              "    <path d=\"M120-120v-720h720v720H120Zm60-500h600v-160H180v160Zm220 220h160v-160H400v160Zm0 220h160v-160H400v160ZM180-400h160v-160H180v160Zm440 0h160v-160H620v160ZM180-180h160v-160H180v160Zm440 0h160v-160H620v160Z\"/>\n",
              "  </svg>\n",
              "    </button>\n",
              "\n",
              "  <style>\n",
              "    .colab-df-container {\n",
              "      display:flex;\n",
              "      gap: 12px;\n",
              "    }\n",
              "\n",
              "    .colab-df-convert {\n",
              "      background-color: #E8F0FE;\n",
              "      border: none;\n",
              "      border-radius: 50%;\n",
              "      cursor: pointer;\n",
              "      display: none;\n",
              "      fill: #1967D2;\n",
              "      height: 32px;\n",
              "      padding: 0 0 0 0;\n",
              "      width: 32px;\n",
              "    }\n",
              "\n",
              "    .colab-df-convert:hover {\n",
              "      background-color: #E2EBFA;\n",
              "      box-shadow: 0px 1px 2px rgba(60, 64, 67, 0.3), 0px 1px 3px 1px rgba(60, 64, 67, 0.15);\n",
              "      fill: #174EA6;\n",
              "    }\n",
              "\n",
              "    .colab-df-buttons div {\n",
              "      margin-bottom: 4px;\n",
              "    }\n",
              "\n",
              "    [theme=dark] .colab-df-convert {\n",
              "      background-color: #3B4455;\n",
              "      fill: #D2E3FC;\n",
              "    }\n",
              "\n",
              "    [theme=dark] .colab-df-convert:hover {\n",
              "      background-color: #434B5C;\n",
              "      box-shadow: 0px 1px 3px 1px rgba(0, 0, 0, 0.15);\n",
              "      filter: drop-shadow(0px 1px 2px rgba(0, 0, 0, 0.3));\n",
              "      fill: #FFFFFF;\n",
              "    }\n",
              "  </style>\n",
              "\n",
              "    <script>\n",
              "      const buttonEl =\n",
              "        document.querySelector('#df-aa517429-576b-4311-8e2d-52c6b1a8cdfa button.colab-df-convert');\n",
              "      buttonEl.style.display =\n",
              "        google.colab.kernel.accessAllowed ? 'block' : 'none';\n",
              "\n",
              "      async function convertToInteractive(key) {\n",
              "        const element = document.querySelector('#df-aa517429-576b-4311-8e2d-52c6b1a8cdfa');\n",
              "        const dataTable =\n",
              "          await google.colab.kernel.invokeFunction('convertToInteractive',\n",
              "                                                    [key], {});\n",
              "        if (!dataTable) return;\n",
              "\n",
              "        const docLinkHtml = 'Like what you see? Visit the ' +\n",
              "          '<a target=\"_blank\" href=https://colab.research.google.com/notebooks/data_table.ipynb>data table notebook</a>'\n",
              "          + ' to learn more about interactive tables.';\n",
              "        element.innerHTML = '';\n",
              "        dataTable['output_type'] = 'display_data';\n",
              "        await google.colab.output.renderOutput(dataTable, element);\n",
              "        const docLink = document.createElement('div');\n",
              "        docLink.innerHTML = docLinkHtml;\n",
              "        element.appendChild(docLink);\n",
              "      }\n",
              "    </script>\n",
              "  </div>\n",
              "\n",
              "\n",
              "<div id=\"df-55d4e703-d0c5-409d-a551-f8cb038a6c22\">\n",
              "  <button class=\"colab-df-quickchart\" onclick=\"quickchart('df-55d4e703-d0c5-409d-a551-f8cb038a6c22')\"\n",
              "            title=\"Suggest charts.\"\n",
              "            style=\"display:none;\">\n",
              "\n",
              "<svg xmlns=\"http://www.w3.org/2000/svg\" height=\"24px\"viewBox=\"0 0 24 24\"\n",
              "     width=\"24px\">\n",
              "    <g>\n",
              "        <path d=\"M19 3H5c-1.1 0-2 .9-2 2v14c0 1.1.9 2 2 2h14c1.1 0 2-.9 2-2V5c0-1.1-.9-2-2-2zM9 17H7v-7h2v7zm4 0h-2V7h2v10zm4 0h-2v-4h2v4z\"/>\n",
              "    </g>\n",
              "</svg>\n",
              "  </button>\n",
              "\n",
              "<style>\n",
              "  .colab-df-quickchart {\n",
              "      --bg-color: #E8F0FE;\n",
              "      --fill-color: #1967D2;\n",
              "      --hover-bg-color: #E2EBFA;\n",
              "      --hover-fill-color: #174EA6;\n",
              "      --disabled-fill-color: #AAA;\n",
              "      --disabled-bg-color: #DDD;\n",
              "  }\n",
              "\n",
              "  [theme=dark] .colab-df-quickchart {\n",
              "      --bg-color: #3B4455;\n",
              "      --fill-color: #D2E3FC;\n",
              "      --hover-bg-color: #434B5C;\n",
              "      --hover-fill-color: #FFFFFF;\n",
              "      --disabled-bg-color: #3B4455;\n",
              "      --disabled-fill-color: #666;\n",
              "  }\n",
              "\n",
              "  .colab-df-quickchart {\n",
              "    background-color: var(--bg-color);\n",
              "    border: none;\n",
              "    border-radius: 50%;\n",
              "    cursor: pointer;\n",
              "    display: none;\n",
              "    fill: var(--fill-color);\n",
              "    height: 32px;\n",
              "    padding: 0;\n",
              "    width: 32px;\n",
              "  }\n",
              "\n",
              "  .colab-df-quickchart:hover {\n",
              "    background-color: var(--hover-bg-color);\n",
              "    box-shadow: 0 1px 2px rgba(60, 64, 67, 0.3), 0 1px 3px 1px rgba(60, 64, 67, 0.15);\n",
              "    fill: var(--button-hover-fill-color);\n",
              "  }\n",
              "\n",
              "  .colab-df-quickchart-complete:disabled,\n",
              "  .colab-df-quickchart-complete:disabled:hover {\n",
              "    background-color: var(--disabled-bg-color);\n",
              "    fill: var(--disabled-fill-color);\n",
              "    box-shadow: none;\n",
              "  }\n",
              "\n",
              "  .colab-df-spinner {\n",
              "    border: 2px solid var(--fill-color);\n",
              "    border-color: transparent;\n",
              "    border-bottom-color: var(--fill-color);\n",
              "    animation:\n",
              "      spin 1s steps(1) infinite;\n",
              "  }\n",
              "\n",
              "  @keyframes spin {\n",
              "    0% {\n",
              "      border-color: transparent;\n",
              "      border-bottom-color: var(--fill-color);\n",
              "      border-left-color: var(--fill-color);\n",
              "    }\n",
              "    20% {\n",
              "      border-color: transparent;\n",
              "      border-left-color: var(--fill-color);\n",
              "      border-top-color: var(--fill-color);\n",
              "    }\n",
              "    30% {\n",
              "      border-color: transparent;\n",
              "      border-left-color: var(--fill-color);\n",
              "      border-top-color: var(--fill-color);\n",
              "      border-right-color: var(--fill-color);\n",
              "    }\n",
              "    40% {\n",
              "      border-color: transparent;\n",
              "      border-right-color: var(--fill-color);\n",
              "      border-top-color: var(--fill-color);\n",
              "    }\n",
              "    60% {\n",
              "      border-color: transparent;\n",
              "      border-right-color: var(--fill-color);\n",
              "    }\n",
              "    80% {\n",
              "      border-color: transparent;\n",
              "      border-right-color: var(--fill-color);\n",
              "      border-bottom-color: var(--fill-color);\n",
              "    }\n",
              "    90% {\n",
              "      border-color: transparent;\n",
              "      border-bottom-color: var(--fill-color);\n",
              "    }\n",
              "  }\n",
              "</style>\n",
              "\n",
              "  <script>\n",
              "    async function quickchart(key) {\n",
              "      const quickchartButtonEl =\n",
              "        document.querySelector('#' + key + ' button');\n",
              "      quickchartButtonEl.disabled = true;  // To prevent multiple clicks.\n",
              "      quickchartButtonEl.classList.add('colab-df-spinner');\n",
              "      try {\n",
              "        const charts = await google.colab.kernel.invokeFunction(\n",
              "            'suggestCharts', [key], {});\n",
              "      } catch (error) {\n",
              "        console.error('Error during call to suggestCharts:', error);\n",
              "      }\n",
              "      quickchartButtonEl.classList.remove('colab-df-spinner');\n",
              "      quickchartButtonEl.classList.add('colab-df-quickchart-complete');\n",
              "    }\n",
              "    (() => {\n",
              "      let quickchartButtonEl =\n",
              "        document.querySelector('#df-55d4e703-d0c5-409d-a551-f8cb038a6c22 button');\n",
              "      quickchartButtonEl.style.display =\n",
              "        google.colab.kernel.accessAllowed ? 'block' : 'none';\n",
              "    })();\n",
              "  </script>\n",
              "</div>\n",
              "    </div>\n",
              "  </div>\n"
            ],
            "text/plain": [
              "        Date     Close      Open      High       Low  Adj Close    Volume\n",
              "0 2000-09-01  8.883333  8.883333  8.883333  8.883333   6.725233         0\n",
              "1 2000-09-04  8.696666  8.993333  9.040000  8.666666   6.583913   4512600\n",
              "2 2000-09-05  9.476666  8.793333  9.590000  8.710000   7.174422  13891965\n",
              "3 2000-09-06  9.156666  9.333333  9.390000  9.066666   6.932160   4390650\n",
              "4 2000-09-07  9.356666  9.073333  9.506666  9.073333   7.083574   3831240"
            ]
          },
          "execution_count": 11,
          "metadata": {},
          "output_type": "execute_result"
        }
      ],
      "source": [
        "df.head()"
      ]
    },
    {
      "cell_type": "code",
      "execution_count": 12,
      "metadata": {
        "id": "JVXIIzEuNLnK"
      },
      "outputs": [],
      "source": [
        "X = df.drop(['Date', 'Volume'], axis=1).values"
      ]
    },
    {
      "cell_type": "code",
      "execution_count": 13,
      "metadata": {
        "colab": {
          "base_uri": "https://localhost:8080/"
        },
        "id": "m7W66XiBNVZM",
        "outputId": "47fba8a9-dbde-432b-f2e0-3c7efc676bed"
      },
      "outputs": [
        {
          "data": {
            "text/plain": [
              "array([[  8.88333321,   8.88333321,   8.88333321,   8.88333321,\n",
              "          6.7252326 ],\n",
              "       [  8.69666576,   8.99333286,   9.03999996,   8.66666603,\n",
              "          6.58391285],\n",
              "       [  9.47666645,   8.79333305,   9.59000015,   8.71000004,\n",
              "          7.17442179],\n",
              "       ...,\n",
              "       [114.65000153, 109.80000305, 115.59999847, 109.05000305,\n",
              "        114.65000153],\n",
              "       [118.69999695, 115.5       , 119.5       , 114.        ,\n",
              "        118.69999695],\n",
              "       [121.25      , 120.90000153, 122.        , 118.69999695,\n",
              "        121.25      ]])"
            ]
          },
          "execution_count": 13,
          "metadata": {},
          "output_type": "execute_result"
        }
      ],
      "source": [
        "X"
      ]
    },
    {
      "cell_type": "code",
      "execution_count": 14,
      "metadata": {
        "colab": {
          "base_uri": "https://localhost:8080/"
        },
        "id": "srsSll6UN27Q",
        "outputId": "870263ba-ba9a-4f23-cc7c-6ebca69ec147"
      },
      "outputs": [
        {
          "data": {
            "text/plain": [
              "(5736, 5)"
            ]
          },
          "execution_count": 14,
          "metadata": {},
          "output_type": "execute_result"
        }
      ],
      "source": [
        "X.shape"
      ]
    },
    {
      "cell_type": "markdown",
      "metadata": {
        "id": "LMO13fXiE_zr"
      },
      "source": [
        "## MinMax Scale the Data"
      ]
    },
    {
      "cell_type": "code",
      "execution_count": 15,
      "metadata": {
        "id": "PZKBsTiVNKWa"
      },
      "outputs": [],
      "source": [
        "from sklearn.preprocessing import MinMaxScaler\n",
        "scaler = MinMaxScaler()\n",
        "X_scaled = scaler.fit_transform(X)"
      ]
    },
    {
      "cell_type": "code",
      "execution_count": 16,
      "metadata": {
        "colab": {
          "base_uri": "https://localhost:8080/"
        },
        "id": "zP3oljnsOAMn",
        "outputId": "2a2d298a-d529-40da-fb0b-b0962ac8236b"
      },
      "outputs": [
        {
          "data": {
            "text/plain": [
              "array([[0.00622973, 0.0060489 , 0.00559993, 0.00646813, 0.00600911],\n",
              "       [0.00573348, 0.00633989, 0.00600799, 0.00588012, 0.00553043],\n",
              "       [0.0078071 , 0.00581083, 0.00744053, 0.00599772, 0.00753061],\n",
              "       ...,\n",
              "       [0.2874094 , 0.27300303, 0.28355618, 0.27831052, 0.37157481],\n",
              "       [0.29817627, 0.28808119, 0.29371419, 0.29174432, 0.38529307],\n",
              "       [0.30495543, 0.30236577, 0.30022574, 0.30449964, 0.39393051]])"
            ]
          },
          "execution_count": 16,
          "metadata": {},
          "output_type": "execute_result"
        }
      ],
      "source": [
        "X_scaled"
      ]
    },
    {
      "cell_type": "markdown",
      "metadata": {
        "id": "nQznZwDME_2S"
      },
      "source": [
        "## Splitting into Training and Testing Sets"
      ]
    },
    {
      "cell_type": "code",
      "execution_count": 17,
      "metadata": {
        "id": "l-GDt3pkOCXw"
      },
      "outputs": [],
      "source": [
        "train_size = int(len(X_scaled)*0.9)\n",
        "train_data = X_scaled[:train_size]\n",
        "test_data = X_scaled[train_size:]"
      ]
    },
    {
      "cell_type": "code",
      "execution_count": 18,
      "metadata": {
        "colab": {
          "base_uri": "https://localhost:8080/"
        },
        "id": "owFzk7wVOOFc",
        "outputId": "7e946c31-d429-443b-ba2a-5e50a8710a26"
      },
      "outputs": [
        {
          "data": {
            "text/plain": [
              "((5162, 5), (574, 5))"
            ]
          },
          "execution_count": 18,
          "metadata": {},
          "output_type": "execute_result"
        }
      ],
      "source": [
        "train_data.shape, test_data.shape"
      ]
    },
    {
      "cell_type": "code",
      "execution_count": 19,
      "metadata": {
        "colab": {
          "base_uri": "https://localhost:8080/",
          "height": 430
        },
        "id": "HVfnGZsxORqq",
        "outputId": "c38612bc-67bc-4674-8ef8-6ca964e6a1b0"
      },
      "outputs": [
        {
          "data": {
            "image/png": "[encoded data removed]",
            "text/plain": [
              "<Figure size 640x480 with 1 Axes>"
            ]
          },
          "metadata": {},
          "output_type": "display_data"
        }
      ],
      "source": [
        "plt.plot(df['Date'][:train_size], train_data[:, 0], label='Train Data')\n",
        "plt.plot(df['Date'][train_size:], test_data[:, 0], label='Test Data')\n",
        "plt.legend()\n",
        "plt.grid()\n",
        "plt.show()"
      ]
    },
    {
      "cell_type": "markdown",
      "metadata": {
        "id": "QjQh6Z1SE_49"
      },
      "source": [
        "## Converting into Windowed Dataset"
      ]
    },
    {
      "cell_type": "code",
      "execution_count": 20,
      "metadata": {
        "id": "TF7mtLqzOol3"
      },
      "outputs": [],
      "source": [
        "def make_windowed_datasets(data, window_size=7, horizon_size=1):\n",
        "  X = []\n",
        "  y = []\n",
        "  for i in range(len(data)-(window_size+horizon_size)):\n",
        "    X.append(data[i:i+window_size, :])\n",
        "    y.append(data[i+window_size, 0])\n",
        "  return np.array(X), np.array(y)"
      ]
    },
    {
      "cell_type": "code",
      "execution_count": 21,
      "metadata": {
        "id": "uttfhYewPVOc"
      },
      "outputs": [],
      "source": [
        "X_train, y_train = make_windowed_datasets(train_data)\n",
        "X_test, y_test = make_windowed_datasets(test_data)"
      ]
    },
    {
      "cell_type": "code",
      "execution_count": 22,
      "metadata": {
        "colab": {
          "base_uri": "https://localhost:8080/"
        },
        "id": "JlW3QKwGPVQo",
        "outputId": "2961c3cf-843a-4fcb-acbe-38782d8d28f6"
      },
      "outputs": [
        {
          "data": {
            "text/plain": [
              "((5154, 7, 5), (5154,), (566, 7, 5), (566,))"
            ]
          },
          "execution_count": 22,
          "metadata": {},
          "output_type": "execute_result"
        }
      ],
      "source": [
        "X_train.shape, y_train.shape, X_test.shape, y_test.shape"
      ]
    },
    {
      "cell_type": "code",
      "execution_count": 23,
      "metadata": {
        "colab": {
          "base_uri": "https://localhost:8080/"
        },
        "id": "_qz28NPxP2Ig",
        "outputId": "9fcc5643-0c99-4a42-d74a-0cdfd7b274cd"
      },
      "outputs": [
        {
          "data": {
            "text/plain": [
              "((5154, 1), (566, 1))"
            ]
          },
          "execution_count": 23,
          "metadata": {},
          "output_type": "execute_result"
        }
      ],
      "source": [
        "y_train = np.reshape(y_train, (y_train.shape[0], 1))\n",
        "y_test = np.reshape(y_test, (y_test.shape[0], 1))\n",
        "y_train.shape, y_test.shape"
      ]
    },
    {
      "cell_type": "markdown",
      "metadata": {
        "id": "yBVeWHvaE_7v"
      },
      "source": [
        "## Model Building"
      ]
    },
    {
      "cell_type": "code",
      "execution_count": 24,
      "metadata": {
        "id": "8WepEi-UQQnE"
      },
      "outputs": [],
      "source": [
        "import os\n",
        "# Create a function to implement a ModelCheckpoint callback with a specific filename\n",
        "def create_model_checkpoint(model_name):\n",
        "  return tf.keras.callbacks.ModelCheckpoint(filepath=f\"./model_experiments/{model_name}/\", # create filepath to save model\n",
        "                                            verbose=0, # only output a limited amount of text\n",
        "                                            save_best_only=True) # save only the best model to file"
      ]
    },
    {
      "cell_type": "code",
      "execution_count": 25,
      "metadata": {
        "id": "s8GJBvNuQHlP"
      },
      "outputs": [],
      "source": [
        "import tensorflow as tf\n",
        "from tensorflow import keras\n",
        "from keras.models import Sequential\n",
        "from keras.layers import LSTM, Dense, Dropout"
      ]
    },
    {
      "cell_type": "code",
      "execution_count": 26,
      "metadata": {
        "colab": {
          "base_uri": "https://localhost:8080/"
        },
        "id": "nHB2SaY6QVam",
        "outputId": "6890817d-e730-403c-b7c6-afb2b7ee2b0d"
      },
      "outputs": [
        {
          "name": "stderr",
          "output_type": "stream",
          "text": [
            "WARNING:tensorflow:Layer lstm will not use cuDNN kernels since it doesn't meet the criteria. It will use a generic GPU kernel as fallback when running on GPU.\n",
            "WARNING:tensorflow:Layer lstm_1 will not use cuDNN kernels since it doesn't meet the criteria. It will use a generic GPU kernel as fallback when running on GPU.\n",
            "WARNING:tensorflow:Layer lstm_2 will not use cuDNN kernels since it doesn't meet the criteria. It will use a generic GPU kernel as fallback when running on GPU.\n"
          ]
        }
      ],
      "source": [
        "model1 = Sequential()\n",
        "model1.add(LSTM(128, activation='relu', return_sequences=True, input_shape=(X_train.shape[1], X_train.shape[2])))\n",
        "model1.add(LSTM(128, activation='relu', return_sequences=True))\n",
        "model1.add(LSTM(64, activation='relu'))\n",
        "model1.add(Dense(32, activation='relu'))\n",
        "model1.add(Dense(1))"
      ]
    },
    {
      "cell_type": "code",
      "execution_count": 27,
      "metadata": {
        "colab": {
          "base_uri": "https://localhost:8080/"
        },
        "id": "34_nutu6QWac",
        "outputId": "f7ea5336-aeac-43fe-eafb-fc428ef4af0b"
      },
      "outputs": [
        {
          "name": "stdout",
          "output_type": "stream",
          "text": [
            "Model: \"sequential\"\n",
            "_________________________________________________________________\n",
            " Layer (type)                Output Shape              Param #   \n",
            "=================================================================\n",
            " lstm (LSTM)                 (None, 7, 128)            68608     \n",
            "                                                                 \n",
            " lstm_1 (LSTM)               (None, 7, 128)            131584    \n",
            "                                                                 \n",
            " lstm_2 (LSTM)               (None, 64)                49408     \n",
            "                                                                 \n",
            " dense (Dense)               (None, 32)                2080      \n",
            "                                                                 \n",
            " dense_1 (Dense)             (None, 1)                 33        \n",
            "                                                                 \n",
            "=================================================================\n",
            "Total params: 251,713\n",
            "Trainable params: 251,713\n",
            "Non-trainable params: 0\n",
            "_________________________________________________________________\n"
          ]
        }
      ],
      "source": [
        "model1.summary()"
      ]
    },
    {
      "cell_type": "code",
      "execution_count": 28,
      "metadata": {
        "id": "HGE93AL0QVdL"
      },
      "outputs": [],
      "source": [
        "model1.compile(\n",
        "    loss='mse',\n",
        "    optimizer=tf.keras.optimizers.Adam(learning_rate=0.001),\n",
        "    metrics=['mse']\n",
        ")"
      ]
    },
    {
      "cell_type": "code",
      "execution_count": 29,
      "metadata": {
        "colab": {
          "base_uri": "https://localhost:8080/"
        },
        "id": "g5ZYECJ9QVfa",
        "outputId": "c0e0075f-536f-4688-e5fd-80f12dc584d4"
      },
      "outputs": [
        {
          "name": "stdout",
          "output_type": "stream",
          "text": [
            "Epoch 1/50\n",
            "162/162 [==============================] - 38s 141ms/step - loss: 0.0079 - mse: 0.0079 - val_loss: 9.3130e-05 - val_mse: 9.3130e-05\n",
            "Epoch 2/50\n",
            "162/162 [==============================] - 9s 56ms/step - loss: 5.3350e-04 - mse: 5.3350e-04 - val_loss: 1.1583e-04 - val_mse: 1.1583e-04\n",
            "Epoch 3/50\n",
            "162/162 [==============================] - 17s 103ms/step - loss: 5.2724e-04 - mse: 5.2724e-04 - val_loss: 9.6006e-05 - val_mse: 9.6006e-05\n",
            "Epoch 4/50\n",
            "162/162 [==============================] - 16s 96ms/step - loss: 4.6855e-04 - mse: 4.6855e-04 - val_loss: 4.7758e-04 - val_mse: 4.7758e-04\n",
            "Epoch 5/50\n",
            "162/162 [==============================] - 15s 90ms/step - loss: 8.4800e-04 - mse: 8.4800e-04 - val_loss: 1.1269e-04 - val_mse: 1.1269e-04\n",
            "Epoch 6/50\n",
            "162/162 [==============================] - 23s 145ms/step - loss: 4.6121e-04 - mse: 4.6121e-04 - val_loss: 8.4253e-05 - val_mse: 8.4253e-05\n",
            "Epoch 7/50\n",
            "162/162 [==============================] - 15s 91ms/step - loss: 4.4621e-04 - mse: 4.4621e-04 - val_loss: 4.1195e-04 - val_mse: 4.1195e-04\n",
            "Epoch 8/50\n",
            "162/162 [==============================] - 17s 105ms/step - loss: 4.1571e-04 - mse: 4.1571e-04 - val_loss: 1.0734e-04 - val_mse: 1.0734e-04\n",
            "Epoch 9/50\n",
            "162/162 [==============================] - 7s 45ms/step - loss: 4.2587e-04 - mse: 4.2587e-04 - val_loss: 9.6587e-05 - val_mse: 9.6587e-05\n",
            "Epoch 10/50\n",
            "162/162 [==============================] - 9s 58ms/step - loss: 3.6795e-04 - mse: 3.6795e-04 - val_loss: 2.8761e-04 - val_mse: 2.8761e-04\n",
            "Epoch 11/50\n",
            "162/162 [==============================] - 14s 86ms/step - loss: 3.8207e-04 - mse: 3.8207e-04 - val_loss: 7.4841e-05 - val_mse: 7.4841e-05\n",
            "Epoch 12/50\n",
            "162/162 [==============================] - 9s 55ms/step - loss: 3.4357e-04 - mse: 3.4357e-04 - val_loss: 1.0398e-04 - val_mse: 1.0398e-04\n",
            "Epoch 13/50\n",
            "162/162 [==============================] - 16s 96ms/step - loss: 2.9622e-04 - mse: 2.9622e-04 - val_loss: 1.4324e-04 - val_mse: 1.4324e-04\n",
            "Epoch 14/50\n",
            "162/162 [==============================] - 16s 99ms/step - loss: 3.5235e-04 - mse: 3.5235e-04 - val_loss: 6.5346e-05 - val_mse: 6.5346e-05\n",
            "Epoch 15/50\n",
            "162/162 [==============================] - 8s 51ms/step - loss: 3.0534e-04 - mse: 3.0534e-04 - val_loss: 6.6130e-05 - val_mse: 6.6130e-05\n",
            "Epoch 16/50\n",
            "162/162 [==============================] - 10s 59ms/step - loss: 3.0954e-04 - mse: 3.0954e-04 - val_loss: 1.3728e-04 - val_mse: 1.3728e-04\n",
            "Epoch 17/50\n",
            "162/162 [==============================] - 7s 43ms/step - loss: 2.8995e-04 - mse: 2.8995e-04 - val_loss: 1.4198e-04 - val_mse: 1.4198e-04\n",
            "Epoch 18/50\n",
            "162/162 [==============================] - 8s 53ms/step - loss: 2.3211e-04 - mse: 2.3211e-04 - val_loss: 1.4996e-04 - val_mse: 1.4996e-04\n",
            "Epoch 19/50\n",
            "162/162 [==============================] - 8s 52ms/step - loss: 2.5614e-04 - mse: 2.5614e-04 - val_loss: 1.3448e-04 - val_mse: 1.3448e-04\n",
            "Epoch 20/50\n",
            "162/162 [==============================] - 12s 77ms/step - loss: 2.3814e-04 - mse: 2.3814e-04 - val_loss: 5.6301e-05 - val_mse: 5.6301e-05\n",
            "Epoch 21/50\n",
            "162/162 [==============================] - 11s 69ms/step - loss: 2.1005e-04 - mse: 2.1005e-04 - val_loss: 5.7909e-05 - val_mse: 5.7909e-05\n",
            "Epoch 22/50\n",
            "162/162 [==============================] - 17s 103ms/step - loss: 2.0885e-04 - mse: 2.0885e-04 - val_loss: 1.3728e-04 - val_mse: 1.3728e-04\n",
            "Epoch 23/50\n",
            "162/162 [==============================] - 11s 69ms/step - loss: 3.0783e-04 - mse: 3.0783e-04 - val_loss: 5.9388e-05 - val_mse: 5.9388e-05\n",
            "Epoch 24/50\n",
            "162/162 [==============================] - 12s 75ms/step - loss: 1.8003e-04 - mse: 1.8003e-04 - val_loss: 4.6360e-05 - val_mse: 4.6360e-05\n",
            "Epoch 25/50\n",
            "162/162 [==============================] - 7s 44ms/step - loss: 1.5921e-04 - mse: 1.5921e-04 - val_loss: 8.0864e-05 - val_mse: 8.0864e-05\n",
            "Epoch 26/50\n",
            "162/162 [==============================] - 8s 52ms/step - loss: 1.7138e-04 - mse: 1.7138e-04 - val_loss: 5.5546e-05 - val_mse: 5.5546e-05\n",
            "Epoch 27/50\n",
            "162/162 [==============================] - 8s 52ms/step - loss: 1.4997e-04 - mse: 1.4997e-04 - val_loss: 6.8446e-05 - val_mse: 6.8446e-05\n",
            "Epoch 28/50\n",
            "162/162 [==============================] - 9s 56ms/step - loss: 1.4837e-04 - mse: 1.4837e-04 - val_loss: 5.5350e-05 - val_mse: 5.5350e-05\n",
            "Epoch 29/50\n",
            "162/162 [==============================] - 13s 82ms/step - loss: 1.5207e-04 - mse: 1.5207e-04 - val_loss: 4.2887e-05 - val_mse: 4.2887e-05\n",
            "Epoch 30/50\n",
            "162/162 [==============================] - 7s 45ms/step - loss: 2.0542e-04 - mse: 2.0542e-04 - val_loss: 1.0162e-04 - val_mse: 1.0162e-04\n",
            "Epoch 31/50\n",
            "162/162 [==============================] - 8s 52ms/step - loss: 2.0194e-04 - mse: 2.0194e-04 - val_loss: 7.0169e-05 - val_mse: 7.0169e-05\n",
            "Epoch 32/50\n",
            "162/162 [==============================] - 8s 47ms/step - loss: 1.7712e-04 - mse: 1.7712e-04 - val_loss: 6.5310e-05 - val_mse: 6.5310e-05\n",
            "Epoch 33/50\n",
            "162/162 [==============================] - 14s 85ms/step - loss: 1.6821e-04 - mse: 1.6821e-04 - val_loss: 3.5331e-05 - val_mse: 3.5331e-05\n",
            "Epoch 34/50\n",
            "162/162 [==============================] - 7s 44ms/step - loss: 1.3959e-04 - mse: 1.3959e-04 - val_loss: 3.6859e-05 - val_mse: 3.6859e-05\n",
            "Epoch 35/50\n",
            "162/162 [==============================] - 9s 53ms/step - loss: 1.3463e-04 - mse: 1.3463e-04 - val_loss: 3.6752e-05 - val_mse: 3.6752e-05\n",
            "Epoch 36/50\n",
            "162/162 [==============================] - 8s 48ms/step - loss: 1.5305e-04 - mse: 1.5305e-04 - val_loss: 4.2510e-05 - val_mse: 4.2510e-05\n",
            "Epoch 37/50\n",
            "162/162 [==============================] - 13s 83ms/step - loss: 1.5146e-04 - mse: 1.5146e-04 - val_loss: 3.2455e-05 - val_mse: 3.2455e-05\n",
            "Epoch 38/50\n",
            "162/162 [==============================] - 7s 46ms/step - loss: 1.5307e-04 - mse: 1.5307e-04 - val_loss: 6.1130e-05 - val_mse: 6.1130e-05\n",
            "Epoch 39/50\n",
            "162/162 [==============================] - 9s 53ms/step - loss: 1.5584e-04 - mse: 1.5584e-04 - val_loss: 4.0267e-05 - val_mse: 4.0267e-05\n",
            "Epoch 40/50\n",
            "162/162 [==============================] - 7s 45ms/step - loss: 1.4980e-04 - mse: 1.4980e-04 - val_loss: 3.9538e-05 - val_mse: 3.9538e-05\n",
            "Epoch 41/50\n",
            "162/162 [==============================] - 8s 50ms/step - loss: 1.4763e-04 - mse: 1.4763e-04 - val_loss: 1.3256e-04 - val_mse: 1.3256e-04\n",
            "Epoch 42/50\n",
            "162/162 [==============================] - 8s 52ms/step - loss: 1.4972e-04 - mse: 1.4972e-04 - val_loss: 3.6631e-05 - val_mse: 3.6631e-05\n",
            "Epoch 43/50\n",
            "162/162 [==============================] - 7s 44ms/step - loss: 2.0327e-04 - mse: 2.0327e-04 - val_loss: 6.8290e-05 - val_mse: 6.8290e-05\n",
            "Epoch 44/50\n",
            "162/162 [==============================] - 8s 52ms/step - loss: 1.6144e-04 - mse: 1.6144e-04 - val_loss: 3.3683e-05 - val_mse: 3.3683e-05\n",
            "Epoch 45/50\n",
            "162/162 [==============================] - 14s 85ms/step - loss: 1.8853e-04 - mse: 1.8853e-04 - val_loss: 3.0076e-05 - val_mse: 3.0076e-05\n",
            "Epoch 46/50\n",
            "162/162 [==============================] - 13s 78ms/step - loss: 1.2724e-04 - mse: 1.2724e-04 - val_loss: 2.9494e-05 - val_mse: 2.9494e-05\n",
            "Epoch 47/50\n",
            "162/162 [==============================] - 8s 52ms/step - loss: 1.3445e-04 - mse: 1.3445e-04 - val_loss: 5.3641e-05 - val_mse: 5.3641e-05\n",
            "Epoch 48/50\n",
            "162/162 [==============================] - 7s 45ms/step - loss: 1.5587e-04 - mse: 1.5587e-04 - val_loss: 3.0706e-05 - val_mse: 3.0706e-05\n",
            "Epoch 49/50\n",
            "162/162 [==============================] - 10s 59ms/step - loss: 1.4209e-04 - mse: 1.4209e-04 - val_loss: 1.1287e-04 - val_mse: 1.1287e-04\n",
            "Epoch 50/50\n",
            "162/162 [==============================] - 13s 82ms/step - loss: 1.4016e-04 - mse: 1.4016e-04 - val_loss: 2.8318e-05 - val_mse: 2.8318e-05\n"
          ]
        }
      ],
      "source": [
        "history1 = model1.fit(X_train, y_train,\n",
        "                      epochs=50,\n",
        "                      validation_data=(X_test, y_test),\n",
        "                      callbacks=[create_model_checkpoint(model_name='LSTM_model1')]\n",
        "                      )"
      ]
    },
    {
      "cell_type": "markdown",
      "metadata": {
        "id": "sUCuSqcZE_-D"
      },
      "source": [
        "## Model Evaluation"
      ]
    },
    {
      "cell_type": "code",
      "execution_count": 30,
      "metadata": {
        "colab": {
          "base_uri": "https://localhost:8080/"
        },
        "id": "1O_bGE8SRsHe",
        "outputId": "0ab65d06-18b7-402e-9513-35261051c254"
      },
      "outputs": [
        {
          "name": "stdout",
          "output_type": "stream",
          "text": [
            "18/18 [==============================] - 0s 5ms/step - loss: 2.8318e-05 - mse: 2.8318e-05\n"
          ]
        },
        {
          "data": {
            "text/plain": [
              "[2.8317781470832415e-05, 2.8317781470832415e-05]"
            ]
          },
          "execution_count": 30,
          "metadata": {},
          "output_type": "execute_result"
        }
      ],
      "source": [
        "model1.evaluate(X_test, y_test)"
      ]
    },
    {
      "cell_type": "code",
      "execution_count": 32,
      "metadata": {
        "colab": {
          "base_uri": "https://localhost:8080/"
        },
        "id": "9H9Ce9HkRsmR",
        "outputId": "4f091ace-b989-4e52-a6bf-87336285c3a1"
      },
      "outputs": [
        {
          "name": "stderr",
          "output_type": "stream",
          "text": [
            "WARNING:tensorflow:Layer lstm will not use cuDNN kernels since it doesn't meet the criteria. It will use a generic GPU kernel as fallback when running on GPU.\n",
            "WARNING:tensorflow:Layer lstm_1 will not use cuDNN kernels since it doesn't meet the criteria. It will use a generic GPU kernel as fallback when running on GPU.\n",
            "WARNING:tensorflow:Layer lstm_2 will not use cuDNN kernels since it doesn't meet the criteria. It will use a generic GPU kernel as fallback when running on GPU.\n"
          ]
        },
        {
          "name": "stdout",
          "output_type": "stream",
          "text": [
            "18/18 [==============================] - 1s 7ms/step - loss: 2.8318e-05 - mse: 2.8318e-05\n"
          ]
        },
        {
          "data": {
            "text/plain": [
              "[2.8317781470832415e-05, 2.8317781470832415e-05]"
            ]
          },
          "execution_count": 32,
          "metadata": {},
          "output_type": "execute_result"
        }
      ],
      "source": [
        "model1 = tf.keras.models.load_model('/content/model_experiments/LSTM_model1/')\n",
        "model1.evaluate(X_test, y_test)"
      ]
    },
    {
      "cell_type": "code",
      "execution_count": 33,
      "metadata": {
        "colab": {
          "base_uri": "https://localhost:8080/"
        },
        "id": "OVMsr0XURso5",
        "outputId": "f0875f21-ce07-41ca-f1ff-2ab4492a425b"
      },
      "outputs": [
        {
          "name": "stdout",
          "output_type": "stream",
          "text": [
            "162/162 [==============================] - 1s 6ms/step - loss: 1.2436e-04 - mse: 1.2436e-04\n"
          ]
        },
        {
          "data": {
            "text/plain": [
              "[0.0001243589213117957, 0.0001243589213117957]"
            ]
          },
          "execution_count": 33,
          "metadata": {},
          "output_type": "execute_result"
        }
      ],
      "source": [
        "model1.evaluate(X_train, y_train)"
      ]
    },
    {
      "cell_type": "code",
      "execution_count": 34,
      "metadata": {
        "colab": {
          "base_uri": "https://localhost:8080/"
        },
        "id": "zMpfzcAiRsqj",
        "outputId": "69c41436-a18a-474d-c7de-c3d367d7341e"
      },
      "outputs": [
        {
          "name": "stdout",
          "output_type": "stream",
          "text": [
            "18/18 [==============================] - 1s 7ms/step\n"
          ]
        },
        {
          "data": {
            "text/plain": [
              "<tf.Tensor: shape=(5,), dtype=float32, numpy=\n",
              "array([0.17708723, 0.1756981 , 0.17824572, 0.17796877, 0.1774274 ],\n",
              "      dtype=float32)>"
            ]
          },
          "execution_count": 34,
          "metadata": {},
          "output_type": "execute_result"
        }
      ],
      "source": [
        "y_preds = tf.squeeze(model1.predict(X_test))\n",
        "y_preds[:5]"
      ]
    },
    {
      "cell_type": "code",
      "execution_count": 35,
      "metadata": {
        "colab": {
          "base_uri": "https://localhost:8080/"
        },
        "id": "j3D5jpBiShKV",
        "outputId": "05d4d636-c3a9-498c-ffd6-e18859e2fc63"
      },
      "outputs": [
        {
          "name": "stdout",
          "output_type": "stream",
          "text": [
            "\n",
            "MAE : 0.0038718865253031254\n",
            "MSE : 2.8317785108811222e-05\n",
            "RMSE : 0.0053214458748698235\n",
            "MAPE : 2.4459357261657715\n",
            "R2 Score : 0.9810540230805861\n"
          ]
        }
      ],
      "source": [
        "from sklearn.metrics import r2_score\n",
        "\n",
        "y_test = tf.squeeze(y_test) # because y_test intially was in the shape of (566, 1)\n",
        "\n",
        "# Make sure float32 (for metric calculations)\n",
        "y_test = tf.cast(y_test, dtype=tf.float32)\n",
        "y_preds = tf.cast(y_preds, dtype=tf.float32)\n",
        "\n",
        "# Calculate various metrics\n",
        "mae = tf.keras.metrics.mean_absolute_error(y_test, y_preds)\n",
        "mse = tf.keras.metrics.mean_squared_error(y_test, y_preds) # puts and emphasis on outliers (all errors get squared)\n",
        "rmse = tf.sqrt(mse)\n",
        "mape = tf.keras.metrics.mean_absolute_percentage_error(y_test, y_preds)\n",
        "r2 = r2_score(y_test, y_preds)\n",
        "\n",
        "print(f\"\"\"\n",
        "MAE : {mae.numpy()}\n",
        "MSE : {mse.numpy()}\n",
        "RMSE : {rmse.numpy()}\n",
        "MAPE : {mape.numpy()}\n",
        "R2 Score : {r2}\"\"\")"
      ]
    },
    {
      "cell_type": "code",
      "execution_count": 36,
      "metadata": {
        "colab": {
          "base_uri": "https://localhost:8080/",
          "height": 448
        },
        "id": "zkxyAsjuShMT",
        "outputId": "adeaef28-c008-4604-8ea5-eae67f42bb87"
      },
      "outputs": [
        {
          "data": {
            "text/plain": [
              "<Axes: >"
            ]
          },
          "execution_count": 36,
          "metadata": {},
          "output_type": "execute_result"
        },
        {
          "data": {
            "image/png": "[encoded data removed]",
            "text/plain": [
              "<Figure size 640x480 with 1 Axes>"
            ]
          },
          "metadata": {},
          "output_type": "display_data"
        }
      ],
      "source": [
        "pd.DataFrame(history1.history).plot()"
      ]
    },
    {
      "cell_type": "markdown",
      "metadata": {
        "id": "9Zg0e0QoFAA3"
      },
      "source": [
        "## Visualizing our Predictions on Test Data"
      ]
    },
    {
      "cell_type": "code",
      "execution_count": 37,
      "metadata": {
        "colab": {
          "base_uri": "https://localhost:8080/",
          "height": 448
        },
        "id": "BmGBKExLS9MZ",
        "outputId": "e28668c7-4932-42cf-9338-fc2c94024a78"
      },
      "outputs": [
        {
          "data": {
            "text/plain": [
              "[<matplotlib.lines.Line2D at 0x798e981ef040>]"
            ]
          },
          "execution_count": 37,
          "metadata": {},
          "output_type": "execute_result"
        },
        {
          "data": {
            "image/png": "[encoded data removed]",
            "text/plain": [
              "<Figure size 640x480 with 1 Axes>"
            ]
          },
          "metadata": {},
          "output_type": "display_data"
        }
      ],
      "source": [
        "plt.plot(y_test)\n",
        "plt.plot(y_preds)"
      ]
    },
    {
      "cell_type": "code",
      "execution_count": 59,
      "metadata": {
        "id": "rZGlB-GiYAOW"
      },
      "outputs": [],
      "source": [
        "y_preds = scaler.inverse_transform(np.repeat(tf.expand_dims(y_preds, axis=1), X_scaled.shape[-1], axis=-1))[:, 0]\n",
        "y_test = scaler.inverse_transform(np.repeat(tf.expand_dims(y_test, axis=1), X_scaled.shape[-1], axis=-1))[:, 0]"
      ]
    },
    {
      "cell_type": "code",
      "execution_count": 60,
      "metadata": {
        "colab": {
          "base_uri": "https://localhost:8080/"
        },
        "id": "H8hOEf0JTAx9",
        "outputId": "040be3d8-76b8-4580-c6ee-cc185630a954"
      },
      "outputs": [
        {
          "data": {
            "text/plain": [
              "array([[72.45    , 73.151955],\n",
              "       [74.5     , 72.629425],\n",
              "       [72.5     , 73.58772 ],\n",
              "       [73.3     , 73.48354 ],\n",
              "       [71.9     , 73.27991 ],\n",
              "       [71.05    , 72.68134 ],\n",
              "       [71.1     , 71.548744],\n",
              "       [72.25    , 71.381775],\n",
              "       [72.35    , 71.74006 ],\n",
              "       [73.9     , 72.45196 ],\n",
              "       [77.      , 73.35366 ],\n",
              "       [75.75    , 75.85317 ],\n",
              "       [74.8     , 76.47278 ],\n",
              "       [75.8     , 76.031685],\n",
              "       [76.2     , 75.76816 ],\n",
              "       [67.4     , 76.16529 ],\n",
              "       [69.65    , 69.29483 ],\n",
              "       [67.      , 67.83791 ],\n",
              "       [65.5     , 66.39311 ],\n",
              "       [64.25    , 65.24772 ]], dtype=float32)"
            ]
          },
          "execution_count": 60,
          "metadata": {},
          "output_type": "execute_result"
        }
      ],
      "source": [
        "con = np.concatenate((tf.expand_dims(y_test, axis=1), tf.expand_dims(y_preds, axis=1)), axis=1)\n",
        "con[:20]"
      ]
    },
    {
      "cell_type": "markdown",
      "metadata": {
        "id": "JKt1btMwFAFS"
      },
      "source": [
        "## Saving the model"
      ]
    },
    {
      "cell_type": "code",
      "execution_count": 61,
      "metadata": {
        "id": "en-3zY7KGpol"
      },
      "outputs": [],
      "source": [
        "model1.save('LSTM_model.h5')"
      ]
    }
  ],
  "metadata": {
    "accelerator": "GPU",
    "colab": {
      "gpuType": "T4",
      "provenance": []
    },
    "kernelspec": {
      "display_name": "Python 3",
      "name": "python3"
    },
    "language_info": {
      "name": "python"
    }
  },
  "nbformat": 4,
  "nbformat_minor": 0
}
